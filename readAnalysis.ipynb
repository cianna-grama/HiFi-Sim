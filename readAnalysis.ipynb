{
 "cells": [
  {
   "cell_type": "markdown",
   "id": "210ff93c-8162-4677-8af6-aa0cd9e89863",
   "metadata": {},
   "source": [
    "REAL FILE ANALYSIS"
   ]
  },
  {
   "cell_type": "markdown",
   "id": "0cc40889-bf3e-41d3-9971-4a61cc79df4d",
   "metadata": {},
   "source": [
    "imports"
   ]
  },
  {
   "cell_type": "code",
   "execution_count": 120,
   "id": "034a3ba5-65c7-43b8-bf4d-456aaee6d876",
   "metadata": {},
   "outputs": [],
   "source": [
    "import gzip\n",
    "from pathlib import Path\n",
    "import numpy as np\n",
    "from pprint import pprint\n",
    "import time \n",
    "from datetime import datetime\n",
    "# import thingy to read the files "
   ]
  },
  {
   "cell_type": "markdown",
   "id": "9cd1d478-d958-47e6-8a88-2495dcf8d152",
   "metadata": {},
   "source": [
    "opening/looking at files"
   ]
  },
  {
   "cell_type": "code",
   "execution_count": 103,
   "id": "65788bce-1b7a-4432-8956-d99dcc1bc563",
   "metadata": {},
   "outputs": [
    {
     "name": "stdout",
     "output_type": "stream",
     "text": [
      "\n",
      "FASTA files: 11\n",
      "  references/SequenceReadFiles/PB644_WB791.hifi_reads.fasta.gz\n",
      "  references/SequenceReadFiles/PB644_WB790.hifi_reads.fasta.gz\n",
      "  references/SequenceReadFiles/PB644_EB816.hifi_reads.fasta.gz\n",
      "  references/SequenceReadFiles/PB644_EB817.hifi_reads.fasta.gz\n",
      "  references/SequenceReadFiles/PB644_WB792.hifi_reads.fasta.gz\n",
      "  references/SequenceReadFiles/PB644_EB813.hifi_reads.fasta.gz\n",
      "  references/SequenceReadFiles/PB644_TB764.hifi_reads.fasta.gz\n",
      "  references/SequenceReadFiles/PB644_WB787.hifi_reads.fasta.gz\n",
      "  references/SequenceReadFiles/PB644_EB818.hifi_reads.fasta.gz\n",
      "  references/SequenceReadFiles/PB644_TB759.hifi_reads.fasta.gz\n",
      "  references/SequenceReadFiles/PB644_EB820.hifi_reads.fasta.gz\n",
      "\n",
      "FASTQ files: 11\n",
      "  references/SequenceReadFiles/PB644_EB820.hifi_reads.fastq.gz\n",
      "  references/SequenceReadFiles/PB644_TB759.hifi_reads.fastq.gz\n",
      "  references/SequenceReadFiles/PB644_EB817.hifi_reads.fastq.gz\n",
      "  references/SequenceReadFiles/PB644_WB792.hifi_reads.fastq.gz\n",
      "  references/SequenceReadFiles/PB644_EB816.hifi_reads.fastq.gz\n",
      "  references/SequenceReadFiles/PB644_WB790.hifi_reads.fastq.gz\n",
      "  references/SequenceReadFiles/PB644_WB791.hifi_reads.fastq.gz\n",
      "  references/SequenceReadFiles/PB644_EB813.hifi_reads.fastq.gz\n",
      "  references/SequenceReadFiles/PB644_TB764.hifi_reads.fastq.gz\n",
      "  references/SequenceReadFiles/PB644_EB818.hifi_reads.fastq.gz\n",
      "  references/SequenceReadFiles/PB644_WB787.hifi_reads.fastq.gz\n"
     ]
    },
    {
     "data": {
      "text/plain": [
       "5"
      ]
     },
     "execution_count": 103,
     "metadata": {},
     "output_type": "execute_result"
    }
   ],
   "source": [
    "data_dir = Path(\"references/SequenceReadFiles/\")  \n",
    "\n",
    "fasta_files = list(data_dir.glob(\"*.fasta.gz\"))\n",
    "fastq_files = list(data_dir.glob(\"*.fastq.gz\"))\n",
    "\n",
    "print(f\"\\nFASTA files: {len(fasta_files)}\")\n",
    "for f in fasta_files:\n",
    "    print(f\"  {f}\")\n",
    "    \n",
    "print(f\"\\nFASTQ files: {len(fastq_files)}\")\n",
    "for f in fastq_files:\n",
    "    print(f\"  {f}\")"
   ]
  },
  {
   "cell_type": "markdown",
   "id": "75eadb7d-14c0-4ca5-a8e0-7b30ff35841e",
   "metadata": {},
   "source": [
    "function to glance at a file "
   ]
  },
  {
   "cell_type": "code",
   "execution_count": 49,
   "id": "05a290ea-14aa-44d0-8281-838f0a93d093",
   "metadata": {},
   "outputs": [],
   "source": [
    "def fileglance(file, numlines):\n",
    "    with gzip.open(file, 'rt') as f:\n",
    "        for i, line in enumerate(f):\n",
    "            if i >= numlines:\n",
    "                break\n",
    "            print(f\"Line {i+1}: {line.strip()}\")"
   ]
  },
  {
   "cell_type": "markdown",
   "id": "3dfd0a02-f236-433a-b4ac-4c6af3a1c5df",
   "metadata": {},
   "source": [
    "glance at random fastq file (note: line is essentially section)"
   ]
  },
  {
   "cell_type": "code",
   "execution_count": 50,
   "id": "36273d78-4303-469d-b051-e0c573b69f37",
   "metadata": {},
   "outputs": [
    {
     "name": "stdout",
     "output_type": "stream",
     "text": [
      "Line 1: @m64069_211202_232023/18/ccs\n",
      "Line 2: CTGACCAGCGCCGAAGCGGAACCCCTCCGGCAGTTCGGCCATCACGCGGGCCTGGCCTTCCAGATCCTCGACGATCTGCTCGATCTGCACGGAGACGCCACGAGCACCGGCAAGGATCACGCCCAGGACGTGGGCAAAAAAACCTATGCTGCTATCATGTCGGCCGACGAAGCCGAGGCGCGCGCCCGCGCCGAGCTCGCGAGGGCGCTGGACGCGCTGACGCCTGCCGCGGTCGATCCTGCGCCGTTCCGCGCGTTTCTCGATCTGGTGGTGCGTGCCTACGACGGGCAGCTCAACGGCGAGTCTCAGAAGGCGGCCGTCCTGCACAAGCACGGTTGAGCCGCCGCGGCGTCCGGACGCTCAGAGAACCCCAATGGACATCCTGATCAACACAGCCTGTTTCTTCGGTGCGCTCCTGTTCATGGAGGGTGTCGCCTACTTCAGCCACAAATACGTCATGCACGGTTTCCTCTGGGTCTGGCACAAGTCGCACCACAGACCGCGTCAGGGCATATTCGAGCTGAACGATCTGTTTGCATTCATTTTCGCCGTGCCCTCGATCGTCCTCATCTTCTTCGGTACCAACGGTCACCCGTGGGCCCTGTGGGCTGGTCTCGGGGTTGCAGGCTACGGGCTGATCTATTTCGGTTTCCACGACGTGATCGTGCACCGCCGGATTCCCCACAACTGGCGCCCCCGGAGCAGATACATGCAACGGATCGTGCACGCGCACCGGCTGCATCACGCAAGAGAGGAAAAGGAGGGGGCAGTTTCGTTCGGCTTCATCTACGCGCCCCCAGTCCCAGTGCTCCGGGCCGAGATGAAAGCCATCGAGGCGCAGCACGAACAGCAGCGGCGCGCGACGAGCGGTCAGCCGGTCGCCTGATCAGCTCAAGAGACCGTCCACAGACCGTCACGAGGCGGCGCCTGCCGGAGCCGCCCGAACATCACCGCGCCGAGTGCCGTGAACAGGCTGCTCACCAGCTTTGCCACCTTCTGCGCGGCGCTCAGACCCGCCCGTTCCTGCCAGGCGCGGGCACCCCGCGAGACCACCACACGCCCGATGCTGCCGTAGACCGAGCGCGCGGCCGCAATGGCCCAGGCACAGCGGAACGGCAGGTGCGCAATTCCGAACAGCGCTGACGCGTAGTAGCGGTCCGCTTCGCCGAGCATCCGCCGGACGACGGGGAACACCTTGTCCTCGTTGCCCGGGAAGCGGGCCGGATCGGTCGGCGCGCCCGCCTCGCGCAGCCACTCGGCCGGCAGGTACACGCGCCCGTCAGCCGCATCTTCCATCACGTCCCGGGCGATGTTCGTGAGCTGGAACGCGAGCCCCAGGTCCACCGCGCGCTGCAGCACGTCGGGATCCCGACCCCCATGATCCTCGCCATCATCGCACCCACCACACCGGCCACGTGATAGCAGTAGCGCAGGGTGTCGTCGAAAGATTCGTAGCGGACCCGCTCCACGTCCATGGCGAATCCCTCGAGCAGTTCCAGCGGAAACCGCCGCGGGATGCCGCACTCCTGGAAGACGCGCCGGAACGCTTCGAACACCGGGTCTGTCGCGGGCTGACCGTCCATTGCCGCTTCGGTCGCCCTGGTGAGGTCTTCCAGAATCCGGCGCTGCTCGGCCGGCTCTGGCGAGCTCTGTCCGAAGCCCAGCTCCTGCCCGTCGATGCGATCGTCACAATGCCGGCACCAAGCGTACAGCATGAAGGCCCGCTCCCGGGTGCGGCCGTCGAACAGCTTCGACGCAGCCGCGAAGCTCTTCGAACCCTGCTCGATGATGGCTTTTGCGTTGGCAATGACCGGATCCAAGGATCAGACCTGCTTCGCGAACTCGATGGAGTAGTCGTCGCTGCCGTAGCGCATGGCGTAATCGGCGAGCATGAGACCGGACGTGGCTTTGGCGGACCCGACTACCCCGGGGATTCCCGCGCCCGGATGTGTGCCCGCGCCGGTGAAGTAGAGTCCGCTGATCTTGTCGTCCCTGTTGTGCGTGCGGAAGTAGGCACTCTGCCACAACACGGGCTCGAGAGAAAATGCGGAGCCCAGATGCGCGTTCAGCTCGTCACGGAAATCGTAGGGTGTGAACGTCCTGGTGGTGACGATGCGTTCCCGCAGGTTCGGCAGGTAGTGCTTCTCCAGATACGCGAGTATGCGATCGGCGTACTGCGGGCCGATCGTCTCCCAGTCGAGATCTGCTGCTTTGAGGTTCGGCACCGGCGAGAGCACGTAGAAGGTCGAGCACCCGGGCGGCGCCAGATCCGGATCCGTGACGGTGGGAGCGTGCAGATACAGCGAAAAGTCGTCGGGCAGGCCCGGCCCAGAGTAGATCTCCTTCAGCAACTGCTTGTAGCGCGCCCCGAACAGAATGCTGTGATGGGCGAGATCCGGATAGCTGCCTTCGACGCCGAAATAGGTCACGAACAGGGATGGGCTGAACGAACGGCGCTTCATGGCCCGGGCGGCCTGCTGCCCACGCGCAGTACGGCCGAGCAGCTTCTCGTAGGTGAACACCACGTCCGCGTTGCTCGCCACCGCGTCGAACTGTCCCTGCCAGCCGTCACCCGTGCGGATACCCGTCACCTTCTCGCCTTCGGTGAGGATCTCCTCGACGGGTGCGGACAGCCTGATGGTTCCACCGATGTCCTCGAAGAGCCTGACAAGGCCCCGCACGAGGGCATGGGTGCCGCCCTTGGGAAACGACACGCCCCAGCGGCGCTCGAGGGAATGGATGAGCGCGTATAACGAGGAGGTGTTGAACGGATTGCCGCCCACCAGCAGGGTGTGGAAGCTGAACGCCTGCCTGAGCTGCTCGTCCTTGATGAACTTGGCGACCATGCTGTAGACGCTGCGGTAGCTCTGCAGCCGCACCAGCGCAGGCGCGGACCTGATCATGTCCGAGAACTTGAGGAAGGGTGCGGTGCCGAGCTTGATGTAGCCCTCTCTGAGCACTTCGTCGGCATAGGCGAGAAAGCGCCGGTAACCTTCAACGTCGGCCGGGCTCTTCTGGGCAATCTGCTTCGCGTTGAGCTCCGGGTCGTTGCTGTAGTCGAACGTGTAGCCATCCTCCCAGCACAGCCGGTAGAACGGCATGACCGGCATCAGCTCGACGTAGTCTTCCAGCGACCGGCCGGTGAGAGCGAACAGCTCCCGCAGGCAGTCCGGGTCGGTGATGACCGTGGGCCCGGCATCGAACGTGAATCCCTGATCCTCGTAGACGTAGGCGCGGCCGCCCGGCTTGTCGCGCTGCTCGAAGATGGTGGTGTCGAATCCGGCGGACTGCAGGCGGATCGCCAGCGCCAGACCGCCGAAGCCGGAGCCGATGACGGCTGCCTTGGGATTACTCAACTCGCTTGCCCTCTCTTCAGGTGTGTGGCGCTGCTTTCCGGCAGGCAGCGCAGCGCCGGCACGATGCTCACCGGGGGCTTGCCCGTGAGTATCCTGGCTTTGTCGAGGAGCGTCGACCGGCCCGCGTAGAACCGTTCGATCAGCGGCTGCCGGAGCGCGTAGAACCGCTGCATCACGTCGCGACGCTTTTCCGGCTCTGCGGCGATGAACAGCATCCGGTTCAGCAGCCTCCAGAATCCCTGCCTGTGCCAGTGGAGCTTGGACCGCGTCGACAGGAAGTCGTACATCGACCGGGTGTCCCGTACCTCCGCGCTGGCGATGGCGTCCGCGGTACGCACCGCGTCCGCGAACGAGTAGCCGGTGGTGGCATGAAAGAGCGCCGCGCGGAGCCCGAGCCGCGGCAGCGAGCTGGCTGCCCAGAACGCATCGATGTCACCTGCCAGCGTGATCGGCAGCACGCCCCGCTCTTCCCGCAGCACCTCCGCGACCTGCCAGCCCTGGCTCGCCGCGTAGTGTGCGATGGCGGCGACGTCTCCCGCCGAATCCAGCGTCGGAGAGTTGCTGTAGCGCGTGTCTTCGATCAGCAGCTCCTCGTCGGTCAGCGGCAGCGTGTAGACGAACCGGTAATCACCGTCCTGAGGCACGGTGGCGTCCATGATGATCGGTCCCGGCAATCCGTGCGGTCGCGTGAGGCTCAGCACCTGACCGGTGAACTTCTGGAATCCGAGCGCCAGATGCGGGCTCGGCTCGGGCCCCCGGCCATCGATCACGCAATCCGCCCTCACCACTTCTCCTCCCGCCAGCACCACCCGGTCGTCGCGCAGCTCCGCGACCTCCGCGCCGAACCGAACCCGATTGTCGAGCTCGCCGGTCATGACCGAGTGAAAATGTTCGGAGTTGGTGGAGCAATAGCCCGAGTGCAGCCGACGCTTGAGGCCCGGGAACCGGACCTCGTAGCTGTCCCAGCGATAGCGCACCAGCGGTCGGATCCACGCCTGCTGCTCCGGAGTGAGGTCCGTCTGAAAGAACGACCAGGTGTGATTGCCCCCCAGGGTCGGGGCGTGCTCGAGCACCAGCGTCCTGAGCGAAGGCTGGAGCTGCCGTAGCCGGTACGCCGCCAGGCAGTTGGCCAGGCCACCACCTACCAGCAGGAGATCGTACTGTTGTTCTGTCATTTGATTTGACGTCCCCGAATCACAGATCCGGGAGGTTCCGCCTGACCCATCGGCCCGCTTGAGCTAAACTGCGCGCGCATTGTACTTGAGATACGGAGCCGCGCAGGTCTAGATGCTCACCGACATCGATCCCCGTACGCTGCTCGTGACCTTTCTGGCGCTCACGACGATCATTGCGATTCGCTACCTACTGATTTCCGGGCTGTTCTACTGGCTGCTCTGGGGCCGAAGTCCCGAGAAGGTTCGAGCCATCAAACTCATGGAGGGCCAACCCCGGCCCGGGGTCGTCAGCCGCGAGATCCGCTGGTCTCTGCTGTCCTCGTTCATCTACGCGGCGCCGGCGGCGCTGGTCTTCGAGCTCTGGCGCGTCGGCGGCACCGCCGTGTACACCGACCTCCATGCATATCCGCTCTGGTACGTGCCGGTCAGCGTGCTGCTGTACCTGTTCCTGCACGATACCTATTTCTACTGGACGCACCGTCTGATGCACCTTAAGCGGCTGTTCCCGGTCATGCACCGCGTCCACCACGATTCCCGCCCGCCCACACCGTGGGCTGCGTTT\n",
      "Line 3: +\n",
      "Line 4: ~~~~~~~~~~~~~~~~~~~~~s~~~~~~~~~~~~~~~~~~~~~~~~~~~~~~~~~~~~~~~~~~~~~~~~~~~~~~~~~~~~~~~~~~~~~~~~~~~~~~~~~~~~~~~~~~~~~~~~~~~|~~~~~~~~~~~~~e~~~~~~~~~~~~~~~~~~~~~~~~~g~~~~~~~~~~~~~~~~~~~~~~Y~~~~~~~~~~~~~~~~~~~~~~~~x~~~~~~~~~~~~~~~~~~~~~~~~~~~~~~~~~~~~~~~~~~~~~~~~~~~~~~~~~~~~~~~~~~~~~~~~~~~]~~~~~~~~~~~~~~~~~~z~~~~~~~~~~~~~~~~~~~~~~~~~~~~~~~~~~~~~~~~~~~~~~~~~w~~~~~~~~~~~~~e~~~~~~~~~~~~~~~~~~~~~~~~~~~~~~~~~~~~~~~~~~~~~~~~~~~~~~~~~l~~~~~~~~~~~~~~~~~~~~~~~~~~~~~~~~~~~~~~A~~~~~~~~~~~~~~~~~~~~~~~~~~~~~~~K~~~~~~~~~~~~~~~~~~~~~~~~~~~~~~~~~~~~~~~~~~~~~~~~~~~~~~~~~~~~~~~~~~|~~~~~~~~~~~~~~~~~~~~~~~~~~w~~~~~~~~~~~~~w~~~~~~~~~~t~~~~~~~~~~~~~~~~~~~~~~~~~~~~~a~x~~~~~~~~~~~~~~~~~~~~~~~~~~~~~~i~~~~~~~~~~~~~y~~~~~~~~~~~~~~~~~~~~~~~~~~~~~~~~~~~~~~~~U~~~~~~~~~~~~~~~~~~~~~~~~~~~l~~~~~~~~~~~~~~~~~~~~~~~~~~~~~~@~~~~~~~~~~~~~~~~~~~~~~~~~~~~~~~~~~~~~~~~~~~~~~~~~~~~~~~~~~~~~~~~~~~~~~~~~~~~~~~~|~~~~~~~~~~~~~~~~~~~~~~~~~~~~~~~~~~~~~~~~~~~~~~~~~~~~~~~~~~~~~~~~~~~~~~~~~~~~~~~~~~~~~~~~~~~~~~~~z~~~~~~~~~~~~~z~~~~~~~~~~~~~~~~~~~~~~~~~~]~~~~~~~~~~~~~~~~~~~~~~~~~~J~~~~~~~~~~~~}~~~~~~~~~~~~~~~~~~~~~~~~~~~~~~~~~b~~~~~~~~~~~~~~~~~~~~~~~~~~~~~~~~~~~~~~~~~~~~~~~~~~~~~~~~~~~~~~~~~~~~~~~~~~~~~~~~~~~~~~~~~~~~~~~~~~~~~~~~~~~~~~~~~~~~~~~~~~~~~~~~~~|~~~~~~~~~~~~~~~~~~~~~~~~~~~~~~~~~~~~~~~~~~~~~~~~~~~~~~~~~~~~~~~~~~~~~~~~~~~~~~~~~~~~~~n~~~~~~~~~~~~~~~~~~~~~~~~~~~a~~~~~~~~~~~~~~~~~~~~~~~~~~~~~~~~~~-~~~~a~~~~~~~~~~~~~~~~~~~~~~~~~_~~~~~~~~{~~~~~~~~~~~~~~~~~~~~~~~~~~~~~~~~~~~~~~~~~~~~~~~~~~~t~~~~~~~~~~~~~~~~~~~~~~~~~~~~~~~~~~~~~~~~s~w~~~~~~~~~o~~~~~~~~~~~~~~~~~~~~~~~~~~~~~~~~~~~~~~~~~~~~~~~~~~~~~~~~~~~~~~~~~~~~~~~~~~~~~~~~~~~~~~~~~~~~~~~~~~~~~~~~~~~~~~~~~~~~~~~~~~~~~~~~~~~~~~~~~~~~~~~~~~r~~~~~~~~~~~~~~~~~~~~~~~~~~~~~~~~~~~~~~~~~~~~~~~~~~~~~~~~~~~~~~~~~~s~~~~~~~~~~~~q~~~~~~~~~~~~~~~~~~~~~~~~~~~~~~~~~~~~~~~~~~~~~~~~~~~~~~~~~~~~~~~~~~~~~~~~~~~~~~~~~~~~~~~~~~~~~~~~~~~~~~~~~~~~~~~~~~~~~~~~~~~~~~~~~~~~~~~~~~~~~~~~~~~~~~~~~~~~~~t~~~~~~~~~~~~~~~~~s~~~~~~~x~~~~~~~~~~~~~~~~~~~~~~~~~~~~j~~~~~~~~~~~~~~~~~~~~~~~~~~~~~~~~~~~~S~~~~~~~~~~~~~~~~~~~~~~~~~~~~~~u~~~~~~~~~~~~~~~~~~~p~~~~~~~~~~~~~~~~~~~~~~~~~~~~~~~~~~~~~~~~~~~~~k~~~~~~~~~~~~~~z~~~~~~~~~~~~~~~~y~~~~~r~~~~~~~~~~~~~~~~~~~~~~~~~~~~~~~~~~~~~~~~~~~~~~~~~~~~{~~~~~~~~~~~~~~~~~~~~~~~~~~~~~~~~~~~~~~~~~~~~~~~~~~~~~~~~~~~~~~~~~~~~~~~~~~~~~~~~~~~~~~~~~~~~~~~~~~~~~~~~~~~~~~~~~~~~~~~~~~~~~~~~~~~~~~~~~~~~~~~g~~~~~~~~~~~~~~~~~~~~~~~~~~~~~~~~~~~~~~~~~~W~~~~~~~~~~~~~~~~~~~~~~~~~~~~~~~~~~~~~~~~~~~~~~~~~~~~~~~~~~~~~~~~~~~~i~~~~~~~~~~~~~~~~~~~~~~~~~~~~~~~~t~~~~~~~~~~~~K~~~Y~~~~~~~~~~~~~~~~~~~~~~~~~~~~~~~~~~~~~~~~~~~~~~~~~~~~~~~~~~~~~~~~~~~~~~~}~~~~~~~~~~~~~~~~~~~~~~~~~~~~~~~~~~~~~~~~~~~~~~~~~~~~~~~~~~~~~~~~~~~~~~~~~~~~~~~~~~~~~~~~~~~~~~~~~~~~~~~~~~~~~~~~~~~~U~~~~~~~~~h~~~~~~~~~~~~~z~~~~y~~m~~~~~~~~~]~~~~~~~~~~~~~~~~~~~~~~~~~~~~~~~~~~~~~~~~~~~}~~~~~~~~~~~~~~~~~~~~~~~~~~~~~~~~~~~~~~~~~~~~~~~~~~~~~~~~~~~~~~~~~~~~~~~~~~~~~~~~~~~~~~~~~~~~~~~~~~~~~~~~~~~~~o~~~~~~~~u~~~~~~~~~~~~~~~~~~~~~~~~~~~~~~~~~~~~~~~~~~Y~~~~~~~~~~~~~~~~~~~~~~~~~~~~~~~~~~~~~~~~~~~~~~~~~~x~~~~~~~~~~~~~~~~~~~~~~~~~~~~~~~~~~~~~~~~~~~~~~~~~~~~~~~~~~~~~~~~~~~~~~~~~~~~~~~~~~~~~~~~~~~~~~~~~~~~~~~~~~~~~~~~~~~~~~~~~~~~~~~~~~~~~~~~~~~~~~~~~~~~~~~~~~~~~~~~~~~~~~~~~~~~~~~~~~~~~~~~~~~~~~~~~~~~~~~~~~~~~~~~~~~~~~~}~~~~~~~~~~~~~~~~~~~~~|~~~~~~~~~~~~~~~~~~~~~~~~~~r~~s~~~~~~~~~~~~~~~~~~~~~~~~~~~~~~~~~~~~~~~~~~~~~~~~~~~~~~~~~~~~~~~~~~v~~~~~~~~~~~~~~~~~~~~~~~~~~~~~~~~~~~~x~~~~~~~~~~~~~~~~~~~~~~~~~~~~~~~~~~~~~~~~~~~~~~~~~~~~~~~~~~~~~~~~~~~~~~~~~~~~~~~~~~~q~~~~~~~~~~~~~~~~~~~~~~~~~~~~~~~~~~~~~~v~~~~~~~~~~~~~~~~~f~~~~~~~~~~~~~~~~~~~~~~~~~~~~~~~~~~~~~~~~~~~~~~~~~~~~~~~~~~~~~~~~~~~~~~~~~~~~~~~~~~~~~~~~~~~~~~~~~~~~~~~~~~~x~~~~~~~~~~~~~~~~~~~~~~~~~~~~~~~~~~~~~~~~~~~~~~~~~~~~~~~~~~~~`~~~~~n~~~~~y~~~~~~~~~~~~~~~~~~~~~~~~~~~~~~~~~~~~~~~~~~~~~~~~~~~~~~~~~~~~~~~~~~~~~~~~~~~~~~~~~~~~~~~~~~~~~~~~~~~~~~~~~~~~~~~~~~~~~~~~~~~~~~~~~~~~~~~~~~~~~~~~~~~~C~~~~~~~~~~~~~~~~~~~~~~~~~~~~~~~~~~~~~~~~~~~~~~~~~~~~~~~~~~~~~~~~~~~~~~~~~~~~~~~~~~~~~~~~~~~~~~~~~~~~~~~~~~~~~~~~~~~~~~~~~~~~~~~~~~~~~~~~~~~~~~~~~~~~~~~~~~~~~~~~~~~~~~~~~~~~~~~~~~~~~~~~~~~~~~~~~~~~~~~~~~~~~~[~~~~~~~~~~~~~~~~~~~~~~~~~~~~~~~~~~~~~~~~~~~~~~~~~~~~~~~~~~~~~~~~~~~~~~~~~~~~~~~~~~r~~d~~~~~~i~~~~~~~~~~~~~~~~~~v~~~~~~~~~~~~~~~~h~~~~~~~~~~~~~~~~~~~~~~~~~~~~~~~~~~~~{~~~~~~~~~~p~~~~~~~~~~~~~~~~~~~~~~~~~~~~~~~~~~~~~~~~~~~~~~~~~~~~~~~~~~~~~~~~~~~~v~~~~~~~~~~~~~~~~~~~~~~~~~~~~~~~~~~~~~~~~~~~~~~~~|~~~~~~~~~~~~~~~~~~~~~~~~~~~~~~~~~~~~~~~~~~~~~~~~~~~~~~~~~~~~~~~~~~~~~~~~~~~~~~~~~~Z~~~~~~~~~~~[~~~~~~~~~~~~~~~~~~~~~~~~~~~~~~~~~~~~~~~~~~~~~~~~~p~~~~~~w~~~~~~~~~~~~~~~~~~~~~~~~~~|~~~~~~~~~~~~~~~~~~~~~~~~~~~~~~~~~}~~~~~~~~~~~~n~~~~~~~~~~~~~~~~~~~~~~~~~~~|~~~~~~~~~~~~~~~~~~~~~~~~7~[|~~~~~~~~~~~~~~~~~~~~~~~~~~~~~~~~~~~~~~~~~~~~~~~~~~~~~~~~~~~~~~~~~~~~~~~~~~~~~~~~~~~~~~~~~~~~~~~~~~~~~~~~~~~~~~~~~~~~~~~~~~~~~~~~~~~~~~~~~~~~~~~~~~~~~~~~C~~~~~~~~~~~~~~~~~~~~~~~~~~~~~~~~~~~~~~~~~~p~~~~~~y~~~~~~~~s~~~~~~~~~~~~~~~~~~~~~~~~~~~~~~~~~~Z~~~~~~~~~~~~~~~~~~~~~~~~~~~~~~~~~~~~~~~~~~~~~~~~~~~~~~~~~~~~~~~~~~~~~~~~~~~~~~~~~~~~~~~~~~~~~~~~~~~~~~~~~~~~~~~~~~~~~~~~~~~~~~~~~~~~~~~~~~~~~~~~~~~~~~~~~~~~~~~~~~~~~~~~~~~~~~~~~~~~~~~~~~~~~~~~~~~~~~~~~~~~~~~~~~~~~~~~~~~~~~~~~~~~~~~~~~~~~~~~~~~~~~\n",
      "Line 5: @m64069_211202_232023/22/ccs\n"
     ]
    }
   ],
   "source": [
    "fileglance(\"references/sequencereadfiles/PB644_EB820.hifi_reads.fastq.gz\", 5)"
   ]
  },
  {
   "cell_type": "markdown",
   "id": "c8aba462-b0d2-49c0-982d-84661033d6bc",
   "metadata": {},
   "source": [
    "glance at random fasta file (note: goes literally line by line) "
   ]
  },
  {
   "cell_type": "code",
   "execution_count": 51,
   "id": "6197bce7-513c-4859-901b-72c03918b744",
   "metadata": {},
   "outputs": [
    {
     "name": "stdout",
     "output_type": "stream",
     "text": [
      "Line 1: >m64069_211130_042912/30/ccs\n",
      "Line 2: CTTTGGTCGGCGCGGCCGATGCTGGGTTATGCGGATTACCGTTCGCCGCTGCGGGGTCTT\n",
      "Line 3: TACCTCTGCGGTTCGGGCGCGCACCCGGGCGGCGGGGTCAGCGCATTGCCGGGACGGAAC\n",
      "Line 4: TGCGCGCGCGAAGTGTTGCGCGACCGTGGCCGGCGGCTGCGGTGAGTTCGGCCGACAGGA\n",
      "Line 5: AGAAAATTTGTTGACGCGCGTCAAAGGTTGTTGACTATAATCCGCGCCCATGCCGAAGAG\n",
      "Line 6: ACTGATGCGCGTCCTGCTGGCGGCGATCCTCATTGCGGTGGTTCCGCTGCAGGGATTCGC\n",
      "Line 7: CGCGCTGGGCGCCGGCATCTGCCGCGACCTGCAGCACTCGCCGCATGACGCGGGGCATGC\n",
      "Line 8: GCAGTTGCCGATGGCCGCACAGGCCCATGAGCACAGTGCCCACGGCGAACCGCGTGCTGC\n",
      "Line 9: GCCTGGCGAGACGGGTGGTGCGCAGCCCGAGGCGAAGACCGCGCACTGCGCCGCCTGTGC\n",
      "Line 10: CTCGTGCGGTGTCGTCGCCGGTATCGTCTCGGCGCCTGCATTCGCGCTTCCGGCTGCCCC\n",
      "Line 11: GGCACGCGACGTCACCGCGCACGCCATGCGCGTCTTCGTCGGCTTCGTGCCCGACGGCCT\n",
      "Line 12: CGACCGACCTCCGCTGACGCCCCTCGCCTGACCCGGGTCGGGTTGCGCGCTTGATCGCGC\n",
      "Line 13: GTGCCCGGTGTTCGATCGCGTCCGCTGCATGCGGGCGCATGGCAGGGGAAACGACGATGC\n",
      "Line 14: ATCGATGGTTGCGCGCCGCGTTGGCGGTGCAGCTGCTGGCGTGGACTGCCGTCCACGCCG\n",
      "Line 15: AGAACCAGCGGCCGGCGGCCGCGGATCCGGCGGATCCGAAGGCGCCGGTGCCGGAGACGA\n",
      "Line 16: AGTACCAGTCCGCGCTCGACGGCTACCAGCCGTACGAGGAAACCAGGCTGCGCGGTTGGC\n",
      "Line 17: GCGAGGCGAACGATGAAGCCCGCGCGCTAGGCGGACATATGGGGCAGCTGAGAGGGCGCG\n",
      "Line 18: CGCAGGCGCCGCAGCATGCAGGGCCGCACGCCGCTCCGCGCCCGATAGTGGGAGGGGAAC\n",
      "Line 19: GATGAGCGCGCGTTCGCGTTTGTGCGCGGCAGCGCTCGCAGCGCTGTTCCTCGGCGGTTG\n",
      "Line 20: CTCGACGTTCTCCAAGGACGGCGGCTTCGACAGCGTGAACGCGGCCGTCAGGGCGCGCAC\n",
      "Line 21: TGGCCAGGACGCCACCTGGGTGCGCGACGACAAGACCGAAACGAGCGTTGCGGCGGAGGT\n",
      "Line 22: CAGCACGCTGCTCGCCGCGCCGATCGGGCCCGAGCAGGCGGTGCGCATCGCGCTGCTCAA\n",
      "Line 23: CAACCGCGGCCTGCAGGCGGCCTACGCCGAGCTCGGCATCGCAGAGGCCGATCTGGTGCA\n",
      "Line 24: AGCCGGCCGGCTCGCCAATCCGAGCTTCGCCTACGCGCGCCTGGTGCGCGGCGACGGTCT\n",
      "Line 25: CGAGATCGAGCGCTTCTTCCTATTCAACCTGATGTCGCTCATCACCATGTCCTCGCGCGT\n",
      "Line 26: CGAGATCGCCGAGCAGCGTTTCGAGCAGGCCAAGCTGCTCGCTGCCGGTGAGGCGCTGCG\n",
      "Line 27: CGTCGCGCTGGAGGCGCGCCGCGGCTGGTTCGAGGCGGTCGCGGCGAAGGAAAGCGAAGG\n",
      "Line 28: TTACTTCGAGATGGTGAAACGCTCGGCGGATGCGAGCGCAGAGCTCGCCGCGCGCATGGC\n",
      "Line 29: CGGGGTCGGCAATTTTTCCAAGCTGCAGCGCATGCGCGAGCAGGCCTTCTACGCCGAAAC\n",
      "Line 30: CACGGCACAGCTGGCGCGCGCACGGCAGAACGCAATCGCCGCGCGCGAGAACCTGACGCG\n",
      "Line 31: CGTACTCGGCCTGTGGGGCGCGCAGACGCAGTTCAGCCTGCCCGAGCGTTTGCCTGCGCT\n",
      "Line 32: GCCGCAGGCGCCACGCGCGCTCGGCCAGCTCGAAGCGACCGCGATGCGCGAGCGGCTCGA\n",
      "Line 33: CGTGCGCGCAGCAAAGCACGACGCGGAAAGCCTTGCCGCCACGCTGGGCCTGACCGACGC\n",
      "Line 34: CACGCGCTTTGTCAACGTGCTGGAGGTCGGCTACCAGTACACGACGGAGTCGGCCGAGCC\n",
      "Line 35: GGTGAAAAAGGGCTGGGAGGTCGAGCTCAAGCTGCCGGTCTTCGACACCGGCGATGCGCG\n",
      "Line 36: CCTGGCGGGTGCGCAGCACCGCTACATGCAGTCCGTGCAGCGCGCGCGGCAGATCGCGAT\n",
      "Line 37: CAACGCGCGCTCCGAGGTGCGCGAGGCCTGGACCGCGTACCGCAGCGCCTACGACAGCGC\n",
      "Line 38: GAAGCTTTTCCGCGACGAAATCGTGCCGCTGCGCAAGCGCATCTCCGAGGAAAACCTGCT\n",
      "Line 39: GCGCTACAACGGCATGCTGATCGGCGTGTTCGAGCTGCTGGCGGACGCGCGCACCACGAT\n",
      "Line 40: CGCGAGCGTCAACGCCGCGATCGAGGCGCTGCGCGATTTCTGGATTGCCGACGGGACTCT\n",
      "Line 41: GCAGATGGCGCTCACCGGGCGCTCGCCCGGCGGCATGGCGATGCGCGCATCCGCGGCGGC\n",
      "Line 42: GGTGGCCGGTGCCGGATCCGGCGCCGAGCATTGAACGGGGAGCGGACGATGAATTCACGC\n",
      "Line 43: AGAAACTTTTTCCGCGCTTCGGCCGCCGGCCTGTTCGGTGCCGCGCTCGTCTCGCGCGTC\n",
      "Line 44: CAGGCCGCCTCGTTGCCCGAGGCGCCGCTCAGGGACAGGCCTGACATGGCGCCGCCGCTC\n",
      "Line 45: GAGCCGACCAACGGCCGGCCCTACCAGCCGGTGGCGACGCTCAATGGCTGGACGCTGCCC\n",
      "Line 46: TGGCGCATGAAGAACGGCTGGAAGGAGTTCCACCTCGTCGCCGAGCCGGTGCGCCGCCAG\n",
      "Line 47: ATCGCGCCCGGCATGACCGCGCACCTGTGGGGTTACAACGGCCAGTCGCCCGGCCCGACG\n",
      "Line 48: ATCGAATGCGTCGAAGGCGACCGGGTGCGCATCTTCGTCACCAACAAGCTGCCCGAGCAC\n",
      "Line 49: ACCACGATTCACTGGCACGGCATCCTGCTGCCGAGCGGCATGGACGGCGTCGGTGGGCTC\n",
      "Line 50: ACGCAGCCGCACATCAAACCCGGCCAGACCTTCGTCTACGAGTTCGAGATGAAGAAGTCG\n",
      "Line 51: GGCACCTTCATGTACCACCCGCACGCCGACGAGATGGTGCAGCTGGCGATGGGCATGATG\n",
      "Line 52: GGGTTCTTCGTCGTGCACCCGAAAGACCCGGACTTCATGCGCGTCGACCGCGATTTCGTG\n",
      "Line 53: TTCCTGCTGAACGCGTTCGACATCGATCCGGGCGCCTATACGCCGAAGGTCAACACGATG\n",
      "Line 54: CTCGACTTCAACCTGTGGTGCTGGAACTCGCGCGTGTTCCCGGGCATCGACCCCTTCGTC\n",
      "Line 55: GTGCGCAAGGACGACCGGGTGCGGATCCGCTTCGGCAACCTCACCATGACCAACCACCCG\n",
      "Line 56: ATCCACATGCACGGCTACGACTTCGAGGTCACCTGCACCGACGGCGGCTGGGTGCGCAAG\n",
      "Line 57: GAAGCGCGCTGGCCGGAAGTCACGGTCGACGTCGCGATCGGGCAGATGCGCGCCTTCGAG\n",
      "Line 58: TTCGTCGCCAGCGAGCCGGGCGACTGGGCGATCCACTGCCACAAGTCGCACCACACCATG\n",
      "Line 59: AACGCGATGGGCCACAACGTGCCGACCATGATCGGAGTCGACCAGCGCGGCGTGGTGAAG\n",
      "Line 60: AAGGTGATCGACCTGGTGCCGGATTACATGGTGATGGGCGAGCGCGGCATGGCCGACATG\n",
      "Line 61: GGCGAGATGGAGATGCCGCTGCCGGACAACACGCTGCCGATGATGACCGGCACCGGCCCG\n",
      "Line 62: TTCGGCGCGATCGAGATGGGCGGCATGTTCAGCGTGGTCAAGGTGCGCGAAAGCCTGGCG\n",
      "Line 63: CGCGACGACTACAAGGATCCGGGCTGGTACCGGCATCCGCCCGGCACGGTGGCGTATGCG\n",
      "Line 64: CTCAAGGGCGCCGCGCCGAAGGCTTCGCGCGCGCCTGCGGGAAAGCCGAAGTCCGGCGAG\n",
      "Line 65: CGCGTGGCGCGGGCGCGCAAGCCGCACGGCCACGGCGGTCACAAATGACGCCGTTTCCGG\n",
      "Line 66: TTAGCGGCCCGCAAGGGCCGAGTTCCATTTTGTTCTCAACTGACTGTAAGGAGACGATGC\n",
      "Line 67: AATGCTCAGACTGACGCTTCGTGCCGCGCTTGCGGCAATGCTGTTCGCCGCGCTGCCGGC\n",
      "Line 68: GCTCGCCGACGACCTGACGGAGGGCGTCGTTCGCAAGGTCAACAAGGACGCCGGCAAGCT\n",
      "Line 69: CACCATCAAGCACGGCGAGATCAAGCATCTCGACATGCCGGCGATGACGATGGTGTTCCA\n",
      "Line 70: GGTCAAGGACCCGGCGATGCTGGACCAGGTCAAGGAGGGCGACAAGGTGCGCTTTGCTGT\n",
      "Line 71: CGAAAGCAAAGGAGGGGCGATGACCGTGACCAAGATCGCGCCCGCGAAATGACCCTCTGG\n",
      "Line 72: CCGCGAGGGGAGCGCGAACTCCCTGCCGGGCGGTGTGTCGAAGGCTTGTGAGGTCTGTGG\n",
      "Line 73: ATGGTTGACGTACGTCAATACGCAAGAGCAGGCCAAGCGCAGGGTAGGAGCCTGACATGA\n",
      "Line 74: GTGCGACCGCGATGCTCTCCGTGAATCCCAGCGCGCGCCGGCGCAGCTGGTGGGCCGCGC\n",
      "Line 75: TCGCAATCGTCGCGCTCGCGCTGCTGTCGCTGCGCCCGGCCTGCGAGGCCTGGCTCTCGC\n",
      "Line 76: ACTGGGCCATGGGCAATGAAGGCCATCATGCGGCGGCGGTTCACGGACACGTTCACAGTG\n",
      "Line 77: CGCCCGCCCATGCGTCGCACGAGGATCTCTGCTGCGGAAGCCTCGAAGCGTTTGCACTGG\n",
      "Line 78: TAAAGCCGGCAGACATGCTGGCATGGCAGTCCACGCAGACGCCTTCACCCGCGATGCTTC\n",
      "Line 79: ATTCCGTGCGGGTGATGTTTCCGGCGGCAGCGCAGTTGCTGCACGCTTTGACCGCCTCGG\n",
      "Line 80: TCATTCCCCTCGGCAGTCCTCCGTTCTACGTCCGCTCGGCGCGCATCCTGCGCTGAGCCG\n",
      "Line 81: ATCGACTGCGCCGTGCCGTGTGAGCGGCCGGCAAATCACGCGTTAAGGATTTGCGGATCG\n",
      "Line 82: CGCGCGCTTGCGCGCCGACGACCGCAGCATTTGACCGCAGTCGAGTTTGATTTGAACGGG\n",
      "Line 83: AGCAACACCATGAAACGCACTTTGATCGCCACGGCCGTGGTCGCGGCCTTCGCAACGACG\n",
      "Line 84: CCGATCTGGGCAGCACCCGACGTAGACGAAATGCATCATGCCGGCATGCCGCTGCAGCTC\n",
      "Line 85: GCCCAGGCGGGCACGCCGCCGGCCGGCCAACCCCAACCGATGGGTCCGGGGATGATGCGG\n",
      "Line 86: GGACAGGGCATGGGTCCTGGGATGATGGGACAGGGCTACGGCTCCGGCATGATGGGTCAG\n",
      "Line 87: GGCTACGGCCCCGGCATGATGGGTCAGGGCTACGGCCCCGGCATGATGGGACCCGGCATG\n",
      "Line 88: ATGGGTTACGGCATGGGGCCCGGAATGATGGGGCAGGGCATGGGCCCGGGCATGATGGGC\n",
      "Line 89: TACGGCATGGGCCCGGGAATGATGGGCCAGGGCATGGGCCCGGGCATGATGGGTTACGGC\n",
      "Line 90: ATGGGCCCGGGAATGATGGGCCAGGGCATGGGCCCCGGCATGATGGGTTACGGCATGGGC\n",
      "Line 91: CCGGGGATGATGGGCGGCATGATGGGGCCGGGGATGATGGGCGGCGCCAATCCCTATGCC\n",
      "Line 92: GCGCTCGATCTCACCGACGCGCAGCGCGCCAAGATCGCCGAGATTCAGGAGCAGCTCTGG\n",
      "Line 93: CGCAAGCACTGGGACCTCATGGGCAAGATGCATGAGGAGCGCTACCACATGCACCGGTTC\n",
      "Line 94: ATGAGCGGCGCCGCGCCGGACGACGCGGGTACGCGCAAGGCCTATGTCGCGATGGCCGAC\n",
      "Line 95: GCGCACAAGCAGATGTTCGACGCCACGCTCGATGCGCGCAAGCAAATCGAGGCGGTGCTC\n",
      "Line 96: ACGCCGGAGCAGCGCGATAAGCTCAAGCGCGGCGGCTGAGCGCCGGAGCCATCCGATGCC\n",
      "Line 97: GACGGTGCAACCGCAGGCGCCGGGCGCGGGCGCGTCAGCGCCCGCGTGGCCTCGCTCGCG\n",
      "Line 98: CTGGACCTACCTCGGTCCGCTTGTTGTCTTTGCGATCATTGCGGTGTTTCTCGGCATCGG\n",
      "Line 99: CTTGACGCGCAACCCGCGCGAGGTTCCTTCGCCCTTACTCGACAAGCCGGTGCCGCAGTT\n",
      "Line 100: CCGGCTCGCGCCGGTGAAGGGCCGCAGCCTCGGGCTGGCGAGTGCGGACCTCGAGGGCGA\n",
      "Line 101: AGTGTCCGTGGTCAACGTATTCGCCTCCTGGTGCACGGCCTGTCGCGACGAGCATCCGCT\n",
      "Line 102: GTGGATGGCGCTCGCGCGCGAGCGCGCGCTGCCGATCCACGGGCTGAACTACAAGGACAA\n",
      "Line 103: GCCCGACGACGCGGCGCGCTGGCTGGACGAGTTGGGCGATCCGTACACGCGCACCGGCGC\n",
      "Line 104: CGATCTCGACGGCCGCGTGGGCATCGACTGGGGCGTGTACGGGGTCCCGGAAACGTTCGT\n",
      "Line 105: CATCGATCGCCAGGGCCGCATCCGGCGCAAGATCATCGGTGCGATCAACCGCCGCATCGT\n",
      "Line 106: CGACGAGGAGCTGCTGCCGCTCGTGCGGCAGCTGCGCGCCGAGCGCGAGGCCGGACAGTA\n",
      "Line 107: AGCGCGTCATGGGCGACAT\n",
      "Line 108: >m64069_211130_042912/47/ccs\n"
     ]
    }
   ],
   "source": [
    "fileglance(\"references/sequencereadfiles/PB644_EB816.hifi_reads.fasta.gz\", 108)"
   ]
  },
  {
   "cell_type": "markdown",
   "id": "55991db6-3b6f-4d57-b4a1-d2426ef660b3",
   "metadata": {},
   "source": [
    "sequence analysis functions"
   ]
  },
  {
   "cell_type": "raw",
   "id": "d3b87659-e85f-42c5-89ce-812f31dc309c",
   "metadata": {},
   "source": [
    "steps: \n",
    "- create functions/ analysis and test in main \n",
    "- review python class structure \n",
    "- make sequenceAnalysis into a class \n",
    "- add class to git project\n",
    "\n",
    "neccessary functions of sequence analysis: \n",
    "✓ gather data from fasta file (keep in mind that each file contains info from multiple sequences) + analyze (call other funcs)\n",
    "✓ gather data from fastq file ^ (+ quality scores)\n",
    "- overall process (one) sequence and update stats (by calling all analysis functions)\n",
    "    ✓ length and add to list \n",
    "    ✓ count all bases\n",
    "    ✓ get gc content ratio (using count all bases function)\n",
    "    ✓ n content\n",
    "    - quality score stats if fastq\n",
    "- overall function to call to analyze the/an entire directory \n",
    "    - read lengths (be tracking each in the loop and have an external counter?)\n",
    "    - total number of reads (per each file? per fasta/q?)\n",
    "- generate report of overall stats of the/a directory \n",
    "- plot distributions?? (lowkey ya I should do this)\n",
    "- return summary statistics as a pandas dataframe?\n",
    "\n",
    "put together in main"
   ]
  },
  {
   "cell_type": "markdown",
   "id": "4906ab60-f808-488d-a7e7-a50e5b4a4f7b",
   "metadata": {},
   "source": [
    "overall stats lists"
   ]
  },
  {
   "cell_type": "raw",
   "id": "9439f982-ba38-47da-95ec-f368ad1c9800",
   "metadata": {},
   "source": [
    "REMEMBER: you're writing each function for one individual file- becomes looped later!\n",
    "          also, i'll find a way to go through the directory file names so i won't have to write each one down when i'm looping \n",
    "          through the files to analyze them! "
   ]
  },
  {
   "cell_type": "code",
   "execution_count": 52,
   "id": "1d10aed3-b374-40bc-9a77-840fce803423",
   "metadata": {},
   "outputs": [],
   "source": [
    "# for testing\n",
    "filenamefasta = \"PB644_EB816.hifi_reads.fasta.gz\"\n",
    "filenamefastq = \"PB644_EB820.hifi_reads.fastq.gz\""
   ]
  },
  {
   "cell_type": "markdown",
   "id": "4834ffcc-a803-4481-a41d-d20d2a16a010",
   "metadata": {},
   "source": [
    "open file + test (lowkey not neccessary) "
   ]
  },
  {
   "cell_type": "code",
   "execution_count": 53,
   "id": "46121914-ec7e-4f5c-a08d-b329342f627b",
   "metadata": {},
   "outputs": [],
   "source": [
    "def openFile(filename):\n",
    "\n",
    "    filepath = \"references/sequencereadfiles/\" + filename\n",
    "\n",
    "    if filepath.endswith('.gz'):\n",
    "        return gzip.open(filepath, 'rt')\n",
    "        \n",
    "    else:\n",
    "        return open(filepath, 'r')"
   ]
  },
  {
   "cell_type": "code",
   "execution_count": 54,
   "id": "471772bd-f88d-4eac-af52-e4fbd9bda28f",
   "metadata": {},
   "outputs": [
    {
     "name": "stdout",
     "output_type": "stream",
     "text": [
      "<_io.TextIOWrapper name='references/sequencereadfiles/PB644_EB816.hifi_reads.fasta.gz' encoding='UTF-8'> \n",
      " <_io.TextIOWrapper name='references/sequencereadfiles/PB644_EB820.hifi_reads.fastq.gz' encoding='UTF-8'>\n"
     ]
    }
   ],
   "source": [
    "# test\n",
    "filefasta = openFile(filenamefasta)\n",
    "filefastq = openFile(filenamefastq)\n",
    "print(filefasta, \"\\n\", filefastq)"
   ]
  },
  {
   "cell_type": "code",
   "execution_count": 82,
   "id": "1bd47e71-f7d7-4757-aa71-816291240a17",
   "metadata": {},
   "outputs": [],
   "source": [
    "# analytical variable values\n",
    "readlengthvalues = []   # list of all read length values from all files\n",
    "basecountvalues = {base: [] for base in ['A', 'C', 'T', 'G', 'N']}   # dictionary of lists of all base counts\n",
    "gccontents = []    # list of all gc content percentages from each sequence\n",
    "ncontents = []     # list of all n content percentages from each sequence \n",
    "readsperfastafile = []     # list of the number of reads per fasta file \n",
    "readsperfastqfile = []     # list of the number of reads per fastq file \n",
    "qualityscores = []      # list of all the quality scores \n",
    "\n",
    "# statistics dictionary\n",
    "    # calculate values after data collection\n",
    "stats = {\n",
    "    'readlengths': {\n",
    "        'mean': 0,  \n",
    "        'median': 0,\n",
    "        'std': 0,\n",
    "        'min': 0,\n",
    "        'max': 0,\n",
    "        'q25': 0,\n",
    "        'q75': 0\n",
    "        # figure this out:\n",
    "        #'distribution_type': 'normal',  # or 'gamma', 'lognormal', etc.\n",
    "        #'parameters': {'loc': 150.2, 'scale': 25.1}  # for sampling\n",
    "    },\n",
    "    'basecounts': {\n",
    "        'A': {\n",
    "            'mean': 0,\n",
    "            'median': 0,\n",
    "            'std': 0,\n",
    "            'min': 0,\n",
    "            'max': 0\n",
    "        },\n",
    "        'C': {\n",
    "            'mean': 0,\n",
    "            'median': 0,\n",
    "            'std': 0,\n",
    "            'min': 0,\n",
    "            'max': 0,\n",
    "        },\n",
    "        'T': {\n",
    "            'mean': 0,\n",
    "            'median': 0,\n",
    "            'std': 0,\n",
    "            'min': 0,\n",
    "            'max': 0\n",
    "        },\n",
    "        'G': {\n",
    "            'mean': 0,\n",
    "            'median': 0,\n",
    "            'std': 0,\n",
    "            'min': 0,\n",
    "            'max': 0\n",
    "        },\n",
    "        'N': {\n",
    "            'mean': 0,\n",
    "            'median': 0,\n",
    "            'std': 0,\n",
    "            'min': 0,\n",
    "            'max': 0\n",
    "        },\n",
    "        'totalbases' : 0\n",
    "    },\n",
    "    'gccontent': {\n",
    "        'mean': 0,\n",
    "        'median': 0,\n",
    "        'std': 0,\n",
    "        'min': 0,\n",
    "        'max': 0\n",
    "    },\n",
    "    'ncontent': {\n",
    "        'mean': 0,\n",
    "        'median': 0,\n",
    "        'std': 0,\n",
    "        'min': 0,\n",
    "        'max': 0\n",
    "    },\n",
    "    'readsperfasta': {\n",
    "        'mean': 0,\n",
    "        'median': 0,\n",
    "        'std': 0,\n",
    "        'min': 0,\n",
    "        'max': 0\n",
    "    },    \n",
    "    'readsperfastq': {\n",
    "        'mean': 0,\n",
    "        'median': 0,\n",
    "        'std': 0,\n",
    "        'min': 0,\n",
    "        'max': 0\n",
    "    },     \n",
    "    'qualityscore': {\n",
    "        'mean': 0,\n",
    "        'median': 0,\n",
    "        'std': 0,\n",
    "        'min': 0,\n",
    "        'max': 0\n",
    "    }  \n",
    "}"
   ]
  },
  {
   "cell_type": "code",
   "execution_count": 83,
   "id": "685388ec-42ec-480c-a814-29ea713d6c51",
   "metadata": {},
   "outputs": [],
   "source": [
    "def calculateStats(stats):\n",
    "    \n",
    "    if readlengthvalues:\n",
    "        stats['readlengths']['mean'] = np.mean(readlengthvalues)\n",
    "        stats['readlengths']['median'] = np.median(readlengthvalues)\n",
    "        stats['readlengths']['std'] = np.std(readlengthvalues)\n",
    "        stats['readlengths']['min'] = np.min(readlengthvalues)\n",
    "        stats['readlengths']['max'] = np.max(readlengthvalues)\n",
    "        stats['readlengths']['q25'] = np.percentile(readlengthvalues, 25)\n",
    "        stats['readlengths']['q75'] = np.percentile(readlengthvalues, 75)\n",
    "        \n",
    "    for base in ['A', 'C', 'T', 'G', 'N']:\n",
    "        if basecountvalues[base]:  # Check if list is not empty\n",
    "            base_values = np.array(basecountvalues[base])\n",
    "            stats['basecounts'][base]['mean'] = np.mean(base_values)\n",
    "            stats['basecounts'][base]['median'] = np.median(base_values)\n",
    "            stats['basecounts'][base]['std'] = np.std(base_values)\n",
    "            stats['basecounts'][base]['min'] = np.min(base_values)\n",
    "            stats['basecounts'][base]['max'] = np.max(base_values)\n",
    "            #stats['basecounts'][base]['q25'] = np.percentile(base_values, 25)\n",
    "            #stats['basecounts'][base]['q75'] = np.percentile(base_values, 75)\n",
    "\n",
    "    if gccontents:\n",
    "        stats['gccontent']['mean'] = np.mean(gccontents)\n",
    "        stats['gccontent']['median'] = np.median(gccontents)\n",
    "        stats['gccontent']['std'] = np.std(gccontents)\n",
    "        stats['gccontent']['min'] = np.min(gccontents)\n",
    "        stats['gccontent']['max'] = np.max(gccontents)\n",
    "\n",
    "    if ncontents:\n",
    "        stats['ncontent']['mean'] = np.mean(ncontents)\n",
    "        stats['ncontent']['median'] = np.median(ncontents)\n",
    "        stats['ncontent']['std'] = np.std(ncontents)\n",
    "        stats['ncontent']['min'] = np.min(ncontents)\n",
    "        stats['ncontent']['max'] = np.max(ncontents)\n",
    "\n",
    "    if readsperfastafile:\n",
    "        stats['readsperfasta']['mean'] = np.mean(readsperfastafile)\n",
    "        stats['readsperfasta']['mean'] = np.mean(readsperfastafile)\n",
    "        stats['readsperfasta']['median'] = np.median(readsperfastafile)\n",
    "        stats['readsperfasta']['std'] = np.std(readsperfastafile)\n",
    "        stats['readsperfasta']['min'] = np.min(readsperfastafile)\n",
    "        stats['readsperfasta']['max'] = np.max(readsperfastafile)\n",
    "\n",
    "    if readsperfastqfile:\n",
    "        stats['readsperfastq']['mean'] = np.mean(readsperfastqfile)\n",
    "        stats['readsperfastq']['median'] = np.median(readsperfastqfile)\n",
    "        stats['readsperfastq']['std'] = np.std(readsperfastqfile)\n",
    "        stats['readsperfastq']['min'] = np.min(readsperfastqfile)\n",
    "        stats['readsperfastq']['max'] = np.max(readsperfastqfile)\n",
    "\n",
    "    if qualityscores:\n",
    "        stats['qualityscore']['mean'] = np.mean(qualityscores)\n",
    "        stats['qualityscore']['median'] = np.median(qualityscores)\n",
    "        stats['qualityscore']['std'] = np.std(qualityscores)\n",
    "        stats['qualityscore']['min'] = np.min(qualityscores)\n",
    "        stats['qualityscore']['max'] = np.max(qualityscores)"
   ]
  },
  {
   "cell_type": "code",
   "execution_count": 84,
   "id": "c5c58fc4-a7fb-4c95-b619-75d48bdb3f5a",
   "metadata": {},
   "outputs": [],
   "source": [
    "def printAnalysis(stats):\n",
    "    calculateStats(stats)\n",
    "    pprint(stats)"
   ]
  },
  {
   "cell_type": "code",
   "execution_count": 85,
   "id": "989e4fcb-1008-4f86-89b8-4bc9323ce356",
   "metadata": {},
   "outputs": [
    {
     "name": "stdout",
     "output_type": "stream",
     "text": [
      "{'basecounts': {'A': {'max': 0, 'mean': 0, 'median': 0, 'min': 0, 'std': 0},\n",
      "                'C': {'max': 0, 'mean': 0, 'median': 0, 'min': 0, 'std': 0},\n",
      "                'G': {'max': 0, 'mean': 0, 'median': 0, 'min': 0, 'std': 0},\n",
      "                'N': {'max': 0, 'mean': 0, 'median': 0, 'min': 0, 'std': 0},\n",
      "                'T': {'max': 0, 'mean': 0, 'median': 0, 'min': 0, 'std': 0},\n",
      "                'totalbases': 0},\n",
      " 'gccontent': {'max': 0, 'mean': 0, 'median': 0, 'min': 0, 'std': 0},\n",
      " 'ncontent': {'max': 0, 'mean': 0, 'median': 0, 'min': 0, 'std': 0},\n",
      " 'qualityscore': {'max': 0, 'mean': 0, 'median': 0, 'min': 0, 'std': 0},\n",
      " 'readlengths': {'max': 0,\n",
      "                 'mean': 0,\n",
      "                 'median': 0,\n",
      "                 'min': 0,\n",
      "                 'q25': 0,\n",
      "                 'q75': 0,\n",
      "                 'std': 0},\n",
      " 'readsperfasta': {'max': 0, 'mean': 0, 'median': 0, 'min': 0, 'std': 0},\n",
      " 'readsperfastq': {'max': 0, 'mean': 0, 'median': 0, 'min': 0, 'std': 0}}\n"
     ]
    }
   ],
   "source": [
    "printAnalysis(stats)"
   ]
  },
  {
   "cell_type": "code",
   "execution_count": 128,
   "id": "220cf1a2-a59f-41cb-abf6-0fadf2ce74f8",
   "metadata": {},
   "outputs": [],
   "source": [
    "# function to analyze a single sequence of a file \n",
    "# updates statistics as part of analysis \n",
    "def analyzeSequence(sequence, quality = None):\n",
    "    # length of sequence\n",
    "    seqlength = len(sequence)\n",
    "    # add to variables/lists\n",
    "    readlengthvalues.append(seqlength)\n",
    "    stats['basecounts']['totalbases'] += seqlength\n",
    "    \n",
    "    # base composition - count all bases in one pass\n",
    "    basecountsdict = {'A': 0, 'C': 0, 'T': 0, 'G': 0, 'N': 0}\n",
    "    gccount = 0\n",
    "    \n",
    "    for base in sequence:\n",
    "        if base in basecountsdict:\n",
    "            basecountsdict[base] += 1\n",
    "            if base in 'GC':\n",
    "                gccount += 1\n",
    "    \n",
    "    # update base count values (append counts to the lists)\n",
    "    for base in ['A', 'C', 'T', 'G', 'N']:\n",
    "        basecountvalues[base].append(basecountsdict[base])\n",
    "    \n",
    "    # calculate percentages\n",
    "    thisncontent = (basecountsdict['N'] / seqlength) * 100 if seqlength > 0 else 0\n",
    "    thisgccontent = (gccount / seqlength) * 100 if seqlength > 0 else 0\n",
    "    \n",
    "    ncontents.append(thisncontent)\n",
    "    gccontents.append(thisgccontent)\n",
    "    \n",
    "    # quality scores\n",
    "    #if quality: \n",
    "        \n",
    "        # ANALYZE QUALITY SCORES SOMEHOW!"
   ]
  },
  {
   "cell_type": "code",
   "execution_count": 124,
   "id": "3f418b02-1956-4b2e-8d2e-300758acc8c0",
   "metadata": {},
   "outputs": [],
   "source": [
    "# function to analyze entire fasta file\n",
    "def analyzeFastaFile(filename):\n",
    "    print(f'analyzing fasta file: {filename}')\n",
    "\n",
    "    amofreads = 0\n",
    "\n",
    "    filepath = \"references/sequencereadfiles/\" + filename\n",
    "    \n",
    "    with gzip.open(filepath, 'rt') as file:\n",
    "        sequence = \"\"\n",
    "        \n",
    "        for line in file:\n",
    "            line = line.strip()\n",
    "            \n",
    "            if line.startswith('>'):\n",
    "                # then, if there is a sequence, analyze it \n",
    "                if sequence:\n",
    "                    # test print \n",
    "                    # print(f'length: {len(sequence)} \\n first 10 letters: {sequence[:10]} \\n')\n",
    "                    analyzeSequence(sequence)\n",
    "                    amofreads += 1\n",
    "                sequence = \"\"   # clear the sequence\n",
    "                \n",
    "            else:      # if line doesnt start with >, then add it to the sequence string \n",
    "                sequence += line.upper()   # convert all values to uppercase\n",
    "        \n",
    "        # after going through the file, process the last sequence\n",
    "        if sequence:\n",
    "            analyzeSequence(sequence)\n",
    "            amofreads += 1\n",
    "            \n",
    "    # add amofreads to list of sequence reads per fasta file \n",
    "    readsperfastafile.append(amofreads)"
   ]
  },
  {
   "cell_type": "code",
   "execution_count": 117,
   "id": "d44bfed1-4ce4-4552-bc21-dcec0d863d7c",
   "metadata": {},
   "outputs": [],
   "source": [
    "def logruntime(seconds):\n",
    "\n",
    "    now = datetime.now()\n",
    "    date = now.strftime(\"%Y-%m-%d\")\n",
    "    starttime = now.strftime(\"%H:%M:%S\")\n",
    "\n",
    "    with open(\"runtimelog.txt\", \"a\") as runtimefile:\n",
    "        runtimefile.write(f\"\\n{date}\\t{starttime}\\t{seconds:.2f}\")"
   ]
  },
  {
   "cell_type": "code",
   "execution_count": 118,
   "id": "cd8cd0c8-e1a3-4442-83db-905eb047002d",
   "metadata": {},
   "outputs": [],
   "source": [
    "def fastaTest():\n",
    "    # test fasta file analysis with run time\n",
    "    startanalysis = time.time()\n",
    "    analyzeFastaFile(filenamefasta)\n",
    "    endanalysis = time.time()\n",
    "    runseconds = round(endanalysis - startanalysis, 2)\n",
    "    \n",
    "    logruntime(runseconds)    \n",
    "    print(f\"Analysis took {runseconds} seconds to run\")\n",
    "    \n",
    "    startprint = time.time()\n",
    "    printAnalysis(stats)\n",
    "    endprint = time.time()\n",
    "    \n",
    "    print(f\"Print stats took {endprint - startprint:.2f} seconds to run\")"
   ]
  },
  {
   "cell_type": "code",
   "execution_count": 121,
   "id": "8dbd45ae-b4ab-446c-84d8-92b8bed6b7a2",
   "metadata": {},
   "outputs": [
    {
     "name": "stdout",
     "output_type": "stream",
     "text": [
      "analyzing fasta file: PB644_EB816.hifi_reads.fasta.gz\n",
      "Analysis took 285.36 seconds to run\n",
      "{'basecounts': {'A': {'max': 9137,\n",
      "                      'mean': 1385.5911304859844,\n",
      "                      'median': 1168.0,\n",
      "                      'min': 4,\n",
      "                      'std': 833.21499582004},\n",
      "                'C': {'max': 10942,\n",
      "                      'mean': 1890.989731776227,\n",
      "                      'median': 1632.0,\n",
      "                      'min': 0,\n",
      "                      'std': 1064.1105816247084},\n",
      "                'G': {'max': 11173,\n",
      "                      'mean': 1886.8994784968174,\n",
      "                      'median': 1628.0,\n",
      "                      'min': 0,\n",
      "                      'std': 1063.1293256462009},\n",
      "                'N': {'max': 0,\n",
      "                      'mean': 0.0,\n",
      "                      'median': 0.0,\n",
      "                      'min': 0,\n",
      "                      'std': 0.0},\n",
      "                'T': {'max': 9734,\n",
      "                      'mean': 1385.8230608053084,\n",
      "                      'median': 1169.0,\n",
      "                      'min': 5,\n",
      "                      'std': 833.4121456010677},\n",
      "                'totalbases': 11411918853},\n",
      " 'gccontent': {'max': 84.70335954253038,\n",
      "               'mean': 57.735791629827354,\n",
      "               'median': 59.71488912354804,\n",
      "               'min': 6.496227996647108,\n",
      "               'std': 10.478284341434097},\n",
      " 'ncontent': {'max': 0.0, 'mean': 0.0, 'median': 0.0, 'min': 0.0, 'std': 0.0},\n",
      " 'qualityscore': {'max': 0, 'mean': 0, 'median': 0, 'min': 0, 'std': 0},\n",
      " 'readlengths': {'max': 36874,\n",
      "                 'mean': 6549.303401564337,\n",
      "                 'median': 5717.0,\n",
      "                 'min': 51,\n",
      "                 'q25': 3948.0,\n",
      "                 'q75': 8311.0,\n",
      "                 'std': 3443.2228285120423},\n",
      " 'readsperfasta': {'max': 580821,\n",
      "                   'mean': 580821.0,\n",
      "                   'median': 580821.0,\n",
      "                   'min': 580821,\n",
      "                   'std': 0.0},\n",
      " 'readsperfastq': {'max': 0, 'mean': 0, 'median': 0, 'min': 0, 'std': 0}}\n",
      "Print stats took 1.78 seconds to run\n"
     ]
    }
   ],
   "source": [
    "fastaTest()"
   ]
  },
  {
   "cell_type": "code",
   "execution_count": 125,
   "id": "1b081fc2-9d35-4c9f-8567-64a819060942",
   "metadata": {},
   "outputs": [],
   "source": [
    "# function to analyz entire fastq file\n",
    "def analyzeFastqFile(filename):\n",
    "    print(f'analyzing fastq file: {filename}')\n",
    "\n",
    "    amofreads = 0\n",
    "\n",
    "    filepath = \"references/sequencereadfiles/\" + filename\n",
    "\n",
    "    with gzip.open(filepath, 'rt') as file:\n",
    "        \n",
    "        linecount = 0\n",
    "        sequence = \"\"\n",
    "        quality = \"\"\n",
    "        \n",
    "        for line in file:\n",
    "            line = line.strip()\n",
    "            linecount += 1      \n",
    "            \n",
    "            # structured like this bc the file considers each sequence to have 4 lines, either:\n",
    "            if linecount % 4 == 1:  # header line\n",
    "                continue     # do nothing \n",
    "            elif linecount % 4 == 2:  # sequence line\n",
    "                sequence = line.upper() # convert to upper and assign line to sequence \n",
    "            elif linecount % 4 == 3:  # + line (representation of header)\n",
    "                continue    # do nothing\n",
    "            elif linecount % 4 == 0:  # quality line\n",
    "                quality = line  # assign line to quality  \n",
    "                analyzeSequence(sequence, quality)   # analyze sequence only when have the sequence and qualities\n",
    "                amofreads += 1\n",
    "                # clear/refresh varibles \n",
    "                sequence = \"\"\n",
    "                quality = \"\"\n",
    "                \n",
    "    # add amofreads to list of sequence reads per fastq file \n",
    "    readsperfastqfile.append(amofreads)"
   ]
  },
  {
   "cell_type": "code",
   "execution_count": null,
   "id": "b8d640ef-7680-438c-8480-f6cae0109397",
   "metadata": {},
   "outputs": [],
   "source": [
    "def fastqTest():\n",
    "    # test fastq file analysis & log run time\n",
    "    startanalysis = time.time()\n",
    "    analyzeFastqFile(filenamefastq)\n",
    "    endanalysis = time.time()\n",
    "    runseconds = round(endanalysis - startanalysis, 2)\n",
    "    \n",
    "    logruntime(runseconds)    \n",
    "    print(f\"Analysis took {runseconds} seconds to run\")\n",
    "    \n",
    "    startprint = time.time()\n",
    "    printAnalysis(stats)\n",
    "    endprint = time.time()\n",
    "    \n",
    "    print(f\"Print stats took {endprint - startprint:.2f} seconds to run\")"
   ]
  },
  {
   "cell_type": "code",
   "execution_count": 3,
   "id": "915a8992-7b6c-4db2-9160-b50045a4a2c1",
   "metadata": {},
   "outputs": [
    {
     "ename": "NameError",
     "evalue": "name 'filenamefastq' is not defined",
     "output_type": "error",
     "traceback": [
      "\u001b[0;31m---------------------------------------------------------------------------\u001b[0m",
      "\u001b[0;31mNameError\u001b[0m                                 Traceback (most recent call last)",
      "Cell \u001b[0;32mIn[3], line 2\u001b[0m\n\u001b[1;32m      1\u001b[0m \u001b[38;5;66;03m# test\u001b[39;00m\n\u001b[0;32m----> 2\u001b[0m analyzeFastqFile(filenamefastq)\n\u001b[1;32m      3\u001b[0m calculatestats()\n\u001b[1;32m      4\u001b[0m pprint(stats)\n",
      "\u001b[0;31mNameError\u001b[0m: name 'filenamefastq' is not defined"
     ]
    }
   ],
   "source": [
    "fastqTest()"
   ]
  },
  {
   "cell_type": "code",
   "execution_count": null,
   "id": "0f86eeff-964a-438c-9d36-794a4d514a2c",
   "metadata": {},
   "outputs": [],
   "source": []
  },
  {
   "cell_type": "code",
   "execution_count": null,
   "id": "febfa827-6915-4823-a8c6-392194246429",
   "metadata": {},
   "outputs": [],
   "source": []
  }
 ],
 "metadata": {
  "kernelspec": {
   "display_name": "Python 3 (ipykernel)",
   "language": "python",
   "name": "python3"
  },
  "language_info": {
   "codemirror_mode": {
    "name": "ipython",
    "version": 3
   },
   "file_extension": ".py",
   "mimetype": "text/x-python",
   "name": "python",
   "nbconvert_exporter": "python",
   "pygments_lexer": "ipython3",
   "version": "3.12.7"
  }
 },
 "nbformat": 4,
 "nbformat_minor": 5
}
